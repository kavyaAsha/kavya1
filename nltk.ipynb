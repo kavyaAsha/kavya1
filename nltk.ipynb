{
 "cells": [
  {
   "cell_type": "code",
   "execution_count": 111,
   "id": "903b9c8d",
   "metadata": {},
   "outputs": [],
   "source": [
    "import nltk\n",
    "from nltk import \n",
    "sent = \"India is a republic nation. We are proud Indians\"\n"
   ]
  },
  {
   "cell_type": "code",
   "execution_count": 112,
   "id": "d1f6381f",
   "metadata": {},
   "outputs": [
    {
     "name": "stdout",
     "output_type": "stream",
     "text": [
      "48\n",
      "India\n",
      "republic\n"
     ]
    }
   ],
   "source": [
    "print(len(sent))   #Prints the number of characters\n",
    "print(sent[0:5])   #Prints 'India'\n",
    "print(sent[11:19]) #Prints 'republic'\n"
   ]
  },
  {
   "cell_type": "markdown",
   "id": "5f41b5f0",
   "metadata": {},
   "source": [
    "# Tokens"
   ]
  },
  {
   "cell_type": "code",
   "execution_count": 113,
   "id": "5653a891",
   "metadata": {},
   "outputs": [
    {
     "name": "stderr",
     "output_type": "stream",
     "text": [
      "[nltk_data] Downloading package punkt to\n",
      "[nltk_data]     C:\\Users\\Admin\\AppData\\Roaming\\nltk_data...\n",
      "[nltk_data]   Package punkt is already up-to-date!\n"
     ]
    },
    {
     "data": {
      "text/plain": [
       "True"
      ]
     },
     "execution_count": 113,
     "metadata": {},
     "output_type": "execute_result"
    }
   ],
   "source": [
    "import nltk\n",
    "nltk.download('punkt')"
   ]
  },
  {
   "cell_type": "code",
   "execution_count": 114,
   "id": "75b6361d",
   "metadata": {},
   "outputs": [
    {
     "name": "stdout",
     "output_type": "stream",
     "text": [
      "['India', 'is', 'a', 'republic', 'nation', '.', 'We', 'are', 'proud', 'Indians']\n"
     ]
    }
   ],
   "source": [
    "print(nltk.word_tokenize(sent)) \n",
    "#Prints list of words ['India', 'is', 'a', 'republic', 'nation', '.', 'We', 'are', 'proud', 'Indians']\n"
   ]
  },
  {
   "cell_type": "markdown",
   "id": "3c095fa5",
   "metadata": {},
   "source": [
    "# Vocabulary"
   ]
  },
  {
   "cell_type": "code",
   "execution_count": 115,
   "id": "267304ed",
   "metadata": {},
   "outputs": [
    {
     "name": "stdout",
     "output_type": "stream",
     "text": [
      "['.', 'India', 'Indians', 'We', 'a', 'are', 'is', 'nation', 'proud', 'republic']\n"
     ]
    }
   ],
   "source": [
    "tokens = nltk.word_tokenize(sent)\n",
    "vocab = sorted(set(tokens))\n",
    "print(vocab) #Prints ['.', 'India', 'Indians', 'We', 'a', 'are', 'country', 'is', 'proud', 'republic']\n"
   ]
  },
  {
   "cell_type": "markdown",
   "id": "ee01d3c5",
   "metadata": {},
   "source": [
    "# Punctuation"
   ]
  },
  {
   "cell_type": "code",
   "execution_count": 116,
   "id": "68dbe46c",
   "metadata": {},
   "outputs": [
    {
     "name": "stdout",
     "output_type": "stream",
     "text": [
      "['India', 'Indians', 'We', 'a', 'are', 'is', 'nation', 'proud', 'republic']\n"
     ]
    }
   ],
   "source": [
    "from string import punctuation\n",
    "vocab_wo_punct=[]\n",
    "for i in vocab:\n",
    "    if i not in punctuation:\n",
    "        vocab_wo_punct.append(i)\n",
    "print(vocab_wo_punct) #Prints ['India', 'Indians', 'We', 'a', 'are', 'country', 'is', 'proud', 'republ\n"
   ]
  },
  {
   "cell_type": "markdown",
   "id": "079ad0ac",
   "metadata": {},
   "source": [
    "# Part of Speech"
   ]
  },
  {
   "cell_type": "code",
   "execution_count": 117,
   "id": "d3ccf0f9",
   "metadata": {},
   "outputs": [
    {
     "name": "stderr",
     "output_type": "stream",
     "text": [
      "[nltk_data] Downloading package averaged_perceptron_tagger to\n",
      "[nltk_data]     C:\\Users\\Admin\\AppData\\Roaming\\nltk_data...\n",
      "[nltk_data]   Package averaged_perceptron_tagger is already up-to-\n",
      "[nltk_data]       date!\n"
     ]
    },
    {
     "data": {
      "text/plain": [
       "True"
      ]
     },
     "execution_count": 117,
     "metadata": {},
     "output_type": "execute_result"
    }
   ],
   "source": [
    "import nltk\n",
    "nltk.download('averaged_perceptron_tagger')"
   ]
  },
  {
   "cell_type": "code",
   "execution_count": 118,
   "id": "83918476",
   "metadata": {},
   "outputs": [
    {
     "name": "stdout",
     "output_type": "stream",
     "text": [
      "[('India', 'NNP'), ('Indians', 'NNPS'), ('We', 'PRP'), ('a', 'DT'), ('are', 'VBP'), ('is', 'VBZ'), ('nation', 'NN'), ('proud', 'JJ'), ('republic', 'NN')]\n"
     ]
    },
    {
     "data": {
      "text/plain": [
       "\" Prints [('India', 'NNP'), ('Indians', 'NNPS'), ('We', 'PRP'), ('a', 'DT'), \\n\\xa0           ('are', 'VBP'), ('country', 'NN'), ('is', 'VBZ'), ('proud', 'JJ'), \\n            ('republic', 'JJ'), ('India', 'NNP')]\\xa0\""
      ]
     },
     "execution_count": 118,
     "metadata": {},
     "output_type": "execute_result"
    }
   ],
   "source": [
    "from nltk import pos_tag\n",
    "pos_list = pos_tag(vocab_wo_punct)\n",
    "print(pos_list)\n",
    "\"\"\" Prints [('India', 'NNP'), ('Indians', 'NNPS'), ('We', 'PRP'), ('a', 'DT'), \n",
    "            ('are', 'VBP'), ('country', 'NN'), ('is', 'VBZ'), ('proud', 'JJ'), \n",
    "            ('republic', 'JJ'), ('India', 'NNP')] \"\"\"\n"
   ]
  },
  {
   "cell_type": "markdown",
   "id": "1d6f7432",
   "metadata": {},
   "source": [
    "# Root of a word - Stemming"
   ]
  },
  {
   "cell_type": "code",
   "execution_count": 135,
   "id": "816345e2",
   "metadata": {},
   "outputs": [
    {
     "name": "stdout",
     "output_type": "stream",
     "text": [
      "['india', 'indian', 'we', 'a', 'are', 'is', 'nation', 'proud', 'republ']\n"
     ]
    }
   ],
   "source": [
    "from nltk.stem.snowball import SnowballStemmer\n",
    "stemObj = SnowballStemmer(\"english\")\n",
    "stemObj.stem(\"Studying\")\n",
    "stemmed_vocab=[]\n",
    "stemObj = SnowballStemmer(\"english\")\n",
    "for i in vocab_wo_punct:\n",
    "    stemmed_vocab.append(stemObj.stem(i))\n",
    "print(stemmed_vocab)"
   ]
  },
  {
   "cell_type": "markdown",
   "id": "6021b15e",
   "metadata": {},
   "source": [
    "# Base of a word - Lemmatization"
   ]
  },
  {
   "cell_type": "code",
   "execution_count": 138,
   "id": "f192079c",
   "metadata": {},
   "outputs": [
    {
     "name": "stderr",
     "output_type": "stream",
     "text": [
      "[nltk_data] Downloading package omw-1.4 to\n",
      "[nltk_data]     C:\\Users\\Admin\\AppData\\Roaming\\nltk_data...\n"
     ]
    },
    {
     "data": {
      "text/plain": [
       "True"
      ]
     },
     "execution_count": 138,
     "metadata": {},
     "output_type": "execute_result"
    }
   ],
   "source": [
    "import nltk\n",
    "nltk.download('omw-1.4')"
   ]
  },
  {
   "cell_type": "code",
   "execution_count": 139,
   "id": "f7f28727",
   "metadata": {},
   "outputs": [
    {
     "data": {
      "text/plain": [
       "'go'"
      ]
     },
     "execution_count": 139,
     "metadata": {},
     "output_type": "execute_result"
    }
   ],
   "source": [
    "from nltk.stem.wordnet import WordNetLemmatizer\n",
    "lemmaObj = WordNetLemmatizer()\n",
    "lemmaObj.lemmatize(\"went\",pos='v')#Prints 'go'\n"
   ]
  },
  {
   "cell_type": "markdown",
   "id": "da2ced6f",
   "metadata": {},
   "source": [
    "# Stop words"
   ]
  },
  {
   "cell_type": "code",
   "execution_count": 142,
   "id": "b411dfe8",
   "metadata": {},
   "outputs": [
    {
     "name": "stderr",
     "output_type": "stream",
     "text": [
      "[nltk_data] Downloading package stopwords to\n",
      "[nltk_data]     C:\\Users\\Admin\\AppData\\Roaming\\nltk_data...\n",
      "[nltk_data]   Unzipping corpora\\stopwords.zip.\n"
     ]
    },
    {
     "data": {
      "text/plain": [
       "True"
      ]
     },
     "execution_count": 142,
     "metadata": {},
     "output_type": "execute_result"
    }
   ],
   "source": [
    "import nltk\n",
    "nltk.download('stopwords')"
   ]
  },
  {
   "cell_type": "code",
   "execution_count": 144,
   "id": "8b6fd79c",
   "metadata": {},
   "outputs": [
    {
     "name": "stdout",
     "output_type": "stream",
     "text": [
      "['India', 'Indians', 'We', 'nation', 'proud', 'republic']\n"
     ]
    }
   ],
   "source": [
    "from nltk.corpus import stopwords\n",
    "wo_stop_words = []\n",
    "stop_words_set = set(stopwords.words(\"english\"))\n",
    "for i in vocab_wo_punct:\n",
    "    if i not in stop_words_set:\n",
    "        wo_stop_words.append(i)\n",
    "print(wo_stop_words)#Prints ['India', 'Indians', 'We', 'country', 'proud', 'republic']\n"
   ]
  },
  {
   "cell_type": "code",
   "execution_count": null,
   "id": "beec5feb",
   "metadata": {},
   "outputs": [],
   "source": []
  }
 ],
 "metadata": {
  "kernelspec": {
   "display_name": "Python 3 (ipykernel)",
   "language": "python",
   "name": "python3"
  },
  "language_info": {
   "codemirror_mode": {
    "name": "ipython",
    "version": 3
   },
   "file_extension": ".py",
   "mimetype": "text/x-python",
   "name": "python",
   "nbconvert_exporter": "python",
   "pygments_lexer": "ipython3",
   "version": "3.9.12"
  }
 },
 "nbformat": 4,
 "nbformat_minor": 5
}
