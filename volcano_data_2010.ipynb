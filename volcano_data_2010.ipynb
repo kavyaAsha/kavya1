{
 "cells": [
  {
   "cell_type": "code",
   "execution_count": 8,
   "id": "11ae6398",
   "metadata": {},
   "outputs": [
    {
     "name": "stdout",
     "output_type": "stream",
     "text": [
      "<class 'pandas.core.frame.DataFrame'>\n",
      "RangeIndex: 64 entries, 0 to 63\n",
      "Data columns (total 36 columns):\n",
      " #   Column                              Non-Null Count  Dtype  \n",
      "---  ------                              --------------  -----  \n",
      " 0   Year                                63 non-null     float64\n",
      " 1   Month                               63 non-null     float64\n",
      " 2   Day                                 57 non-null     float64\n",
      " 3   TSU                                 2 non-null      object \n",
      " 4   EQ                                  1 non-null      object \n",
      " 5   Name                                63 non-null     object \n",
      " 6   Location                            63 non-null     object \n",
      " 7   Country                             63 non-null     object \n",
      " 8   Latitude                            63 non-null     float64\n",
      " 9   Longitude                           63 non-null     float64\n",
      " 10  Elevation                           63 non-null     float64\n",
      " 11  Type                                63 non-null     object \n",
      " 12  Status                              63 non-null     object \n",
      " 13  Time                                63 non-null     object \n",
      " 14  VEI                                 19 non-null     float64\n",
      " 15  Agent                               23 non-null     object \n",
      " 16  DEATHS                              29 non-null     float64\n",
      " 17  DEATHS_DESCRIPTION                  29 non-null     float64\n",
      " 18  MISSING                             2 non-null      float64\n",
      " 19  MISSING_DESCRIPTION                 2 non-null      float64\n",
      " 20  INJURIES                            18 non-null     float64\n",
      " 21  INJURIES_DESCRIPTION                21 non-null     float64\n",
      " 22  DAMAGE_MILLIONS_DOLLARS             4 non-null      float64\n",
      " 23  DAMAGE_DESCRIPTION                  41 non-null     float64\n",
      " 24  HOUSES_DESTROYED                    7 non-null      float64\n",
      " 25  HOUSES_DESTROYED_DESCRIPTION        16 non-null     float64\n",
      " 26  TOTAL_DEATHS                        29 non-null     float64\n",
      " 27  TOTAL_DEATHS_DESCRIPTION            29 non-null     float64\n",
      " 28  TOTAL_MISSING                       2 non-null      float64\n",
      " 29  TOTAL_MISSING_DESCRIPTION           2 non-null      float64\n",
      " 30  TOTAL_INJURIES                      18 non-null     float64\n",
      " 31  TOTAL_INJURIES_DESCRIPTION          21 non-null     float64\n",
      " 32  TOTAL_DAMAGE_MILLIONS_DOLLARS       4 non-null      float64\n",
      " 33  TOTAL_DAMAGE_DESCRIPTION            39 non-null     float64\n",
      " 34  TOTAL_HOUSES_DESTROYED              5 non-null      float64\n",
      " 35  TOTAL_HOUSES_DESTROYED_DESCRIPTION  14 non-null     float64\n",
      "dtypes: float64(27), object(9)\n",
      "memory usage: 18.1+ KB\n"
     ]
    }
   ],
   "source": [
    "import pandas as pd\n",
    "df1=pd.read_csv('C:/Users/Admin/Desktop/kavya/volcano_data_2010.csv')\n",
    "df1.info()"
   ]
  },
  {
   "cell_type": "code",
   "execution_count": 9,
   "id": "1f0e86cc",
   "metadata": {},
   "outputs": [
    {
     "data": {
      "text/html": [
       "<div>\n",
       "<style scoped>\n",
       "    .dataframe tbody tr th:only-of-type {\n",
       "        vertical-align: middle;\n",
       "    }\n",
       "\n",
       "    .dataframe tbody tr th {\n",
       "        vertical-align: top;\n",
       "    }\n",
       "\n",
       "    .dataframe thead th {\n",
       "        text-align: right;\n",
       "    }\n",
       "</style>\n",
       "<table border=\"1\" class=\"dataframe\">\n",
       "  <thead>\n",
       "    <tr style=\"text-align: right;\">\n",
       "      <th></th>\n",
       "      <th>Year</th>\n",
       "      <th>Month</th>\n",
       "      <th>Day</th>\n",
       "      <th>TSU</th>\n",
       "      <th>EQ</th>\n",
       "      <th>Name</th>\n",
       "      <th>Location</th>\n",
       "      <th>Country</th>\n",
       "      <th>Latitude</th>\n",
       "      <th>Longitude</th>\n",
       "      <th>...</th>\n",
       "      <th>TOTAL_DEATHS</th>\n",
       "      <th>TOTAL_DEATHS_DESCRIPTION</th>\n",
       "      <th>TOTAL_MISSING</th>\n",
       "      <th>TOTAL_MISSING_DESCRIPTION</th>\n",
       "      <th>TOTAL_INJURIES</th>\n",
       "      <th>TOTAL_INJURIES_DESCRIPTION</th>\n",
       "      <th>TOTAL_DAMAGE_MILLIONS_DOLLARS</th>\n",
       "      <th>TOTAL_DAMAGE_DESCRIPTION</th>\n",
       "      <th>TOTAL_HOUSES_DESTROYED</th>\n",
       "      <th>TOTAL_HOUSES_DESTROYED_DESCRIPTION</th>\n",
       "    </tr>\n",
       "  </thead>\n",
       "  <tbody>\n",
       "    <tr>\n",
       "      <th>0</th>\n",
       "      <td>NaN</td>\n",
       "      <td>NaN</td>\n",
       "      <td>NaN</td>\n",
       "      <td>NaN</td>\n",
       "      <td>NaN</td>\n",
       "      <td>NaN</td>\n",
       "      <td>NaN</td>\n",
       "      <td>NaN</td>\n",
       "      <td>NaN</td>\n",
       "      <td>NaN</td>\n",
       "      <td>...</td>\n",
       "      <td>NaN</td>\n",
       "      <td>NaN</td>\n",
       "      <td>NaN</td>\n",
       "      <td>NaN</td>\n",
       "      <td>NaN</td>\n",
       "      <td>NaN</td>\n",
       "      <td>NaN</td>\n",
       "      <td>NaN</td>\n",
       "      <td>NaN</td>\n",
       "      <td>NaN</td>\n",
       "    </tr>\n",
       "    <tr>\n",
       "      <th>1</th>\n",
       "      <td>2010.0</td>\n",
       "      <td>1.0</td>\n",
       "      <td>NaN</td>\n",
       "      <td>NaN</td>\n",
       "      <td>NaN</td>\n",
       "      <td>Tungurahua</td>\n",
       "      <td>Ecuador</td>\n",
       "      <td>Ecuador</td>\n",
       "      <td>-1.467</td>\n",
       "      <td>-78.442</td>\n",
       "      <td>...</td>\n",
       "      <td>NaN</td>\n",
       "      <td>NaN</td>\n",
       "      <td>NaN</td>\n",
       "      <td>NaN</td>\n",
       "      <td>NaN</td>\n",
       "      <td>NaN</td>\n",
       "      <td>NaN</td>\n",
       "      <td>1.0</td>\n",
       "      <td>NaN</td>\n",
       "      <td>NaN</td>\n",
       "    </tr>\n",
       "    <tr>\n",
       "      <th>2</th>\n",
       "      <td>2010.0</td>\n",
       "      <td>3.0</td>\n",
       "      <td>31.0</td>\n",
       "      <td>NaN</td>\n",
       "      <td>NaN</td>\n",
       "      <td>Eyjafjallajokull</td>\n",
       "      <td>Iceland-S</td>\n",
       "      <td>Iceland</td>\n",
       "      <td>63.630</td>\n",
       "      <td>-19.620</td>\n",
       "      <td>...</td>\n",
       "      <td>2.0</td>\n",
       "      <td>1.0</td>\n",
       "      <td>NaN</td>\n",
       "      <td>NaN</td>\n",
       "      <td>NaN</td>\n",
       "      <td>NaN</td>\n",
       "      <td>NaN</td>\n",
       "      <td>NaN</td>\n",
       "      <td>NaN</td>\n",
       "      <td>NaN</td>\n",
       "    </tr>\n",
       "    <tr>\n",
       "      <th>3</th>\n",
       "      <td>2010.0</td>\n",
       "      <td>5.0</td>\n",
       "      <td>27.0</td>\n",
       "      <td>NaN</td>\n",
       "      <td>NaN</td>\n",
       "      <td>Pacaya</td>\n",
       "      <td>Guatemala</td>\n",
       "      <td>Guatemala</td>\n",
       "      <td>14.381</td>\n",
       "      <td>-90.601</td>\n",
       "      <td>...</td>\n",
       "      <td>1.0</td>\n",
       "      <td>1.0</td>\n",
       "      <td>3.0</td>\n",
       "      <td>1.0</td>\n",
       "      <td>NaN</td>\n",
       "      <td>NaN</td>\n",
       "      <td>NaN</td>\n",
       "      <td>1.0</td>\n",
       "      <td>3.0</td>\n",
       "      <td>1.0</td>\n",
       "    </tr>\n",
       "    <tr>\n",
       "      <th>4</th>\n",
       "      <td>2010.0</td>\n",
       "      <td>5.0</td>\n",
       "      <td>29.0</td>\n",
       "      <td>TSU</td>\n",
       "      <td>EQ</td>\n",
       "      <td>Sarigan</td>\n",
       "      <td>Mariana Is-C Pacific</td>\n",
       "      <td>United States</td>\n",
       "      <td>16.708</td>\n",
       "      <td>145.780</td>\n",
       "      <td>...</td>\n",
       "      <td>NaN</td>\n",
       "      <td>NaN</td>\n",
       "      <td>NaN</td>\n",
       "      <td>NaN</td>\n",
       "      <td>NaN</td>\n",
       "      <td>NaN</td>\n",
       "      <td>NaN</td>\n",
       "      <td>NaN</td>\n",
       "      <td>NaN</td>\n",
       "      <td>NaN</td>\n",
       "    </tr>\n",
       "    <tr>\n",
       "      <th>...</th>\n",
       "      <td>...</td>\n",
       "      <td>...</td>\n",
       "      <td>...</td>\n",
       "      <td>...</td>\n",
       "      <td>...</td>\n",
       "      <td>...</td>\n",
       "      <td>...</td>\n",
       "      <td>...</td>\n",
       "      <td>...</td>\n",
       "      <td>...</td>\n",
       "      <td>...</td>\n",
       "      <td>...</td>\n",
       "      <td>...</td>\n",
       "      <td>...</td>\n",
       "      <td>...</td>\n",
       "      <td>...</td>\n",
       "      <td>...</td>\n",
       "      <td>...</td>\n",
       "      <td>...</td>\n",
       "      <td>...</td>\n",
       "      <td>...</td>\n",
       "    </tr>\n",
       "    <tr>\n",
       "      <th>59</th>\n",
       "      <td>2018.0</td>\n",
       "      <td>2.0</td>\n",
       "      <td>1.0</td>\n",
       "      <td>NaN</td>\n",
       "      <td>NaN</td>\n",
       "      <td>Kilauea</td>\n",
       "      <td>Hawaiian Is</td>\n",
       "      <td>United States</td>\n",
       "      <td>19.425</td>\n",
       "      <td>-155.292</td>\n",
       "      <td>...</td>\n",
       "      <td>1.0</td>\n",
       "      <td>1.0</td>\n",
       "      <td>NaN</td>\n",
       "      <td>NaN</td>\n",
       "      <td>3.0</td>\n",
       "      <td>1.0</td>\n",
       "      <td>NaN</td>\n",
       "      <td>NaN</td>\n",
       "      <td>NaN</td>\n",
       "      <td>NaN</td>\n",
       "    </tr>\n",
       "    <tr>\n",
       "      <th>60</th>\n",
       "      <td>2018.0</td>\n",
       "      <td>2.0</td>\n",
       "      <td>9.0</td>\n",
       "      <td>TSU</td>\n",
       "      <td>NaN</td>\n",
       "      <td>Kadovar</td>\n",
       "      <td>New Guinea-NE of</td>\n",
       "      <td>Papua New Guinea</td>\n",
       "      <td>-3.620</td>\n",
       "      <td>144.620</td>\n",
       "      <td>...</td>\n",
       "      <td>NaN</td>\n",
       "      <td>NaN</td>\n",
       "      <td>NaN</td>\n",
       "      <td>NaN</td>\n",
       "      <td>NaN</td>\n",
       "      <td>NaN</td>\n",
       "      <td>NaN</td>\n",
       "      <td>NaN</td>\n",
       "      <td>NaN</td>\n",
       "      <td>NaN</td>\n",
       "    </tr>\n",
       "    <tr>\n",
       "      <th>61</th>\n",
       "      <td>2018.0</td>\n",
       "      <td>3.0</td>\n",
       "      <td>21.0</td>\n",
       "      <td>NaN</td>\n",
       "      <td>NaN</td>\n",
       "      <td>Ijen</td>\n",
       "      <td>Java</td>\n",
       "      <td>Indonesia</td>\n",
       "      <td>-8.058</td>\n",
       "      <td>114.242</td>\n",
       "      <td>...</td>\n",
       "      <td>NaN</td>\n",
       "      <td>NaN</td>\n",
       "      <td>NaN</td>\n",
       "      <td>NaN</td>\n",
       "      <td>30.0</td>\n",
       "      <td>1.0</td>\n",
       "      <td>NaN</td>\n",
       "      <td>NaN</td>\n",
       "      <td>NaN</td>\n",
       "      <td>NaN</td>\n",
       "    </tr>\n",
       "    <tr>\n",
       "      <th>62</th>\n",
       "      <td>2018.0</td>\n",
       "      <td>4.0</td>\n",
       "      <td>28.0</td>\n",
       "      <td>NaN</td>\n",
       "      <td>NaN</td>\n",
       "      <td>Kilauea</td>\n",
       "      <td>Hawaiian Is</td>\n",
       "      <td>United States</td>\n",
       "      <td>19.425</td>\n",
       "      <td>-155.292</td>\n",
       "      <td>...</td>\n",
       "      <td>NaN</td>\n",
       "      <td>NaN</td>\n",
       "      <td>NaN</td>\n",
       "      <td>NaN</td>\n",
       "      <td>NaN</td>\n",
       "      <td>NaN</td>\n",
       "      <td>NaN</td>\n",
       "      <td>1.0</td>\n",
       "      <td>2.0</td>\n",
       "      <td>1.0</td>\n",
       "    </tr>\n",
       "    <tr>\n",
       "      <th>63</th>\n",
       "      <td>2018.0</td>\n",
       "      <td>4.0</td>\n",
       "      <td>NaN</td>\n",
       "      <td>NaN</td>\n",
       "      <td>NaN</td>\n",
       "      <td>Aoba</td>\n",
       "      <td>Vanuatu-SW Pacific</td>\n",
       "      <td>Vanuatu</td>\n",
       "      <td>-15.400</td>\n",
       "      <td>167.830</td>\n",
       "      <td>...</td>\n",
       "      <td>4.0</td>\n",
       "      <td>1.0</td>\n",
       "      <td>NaN</td>\n",
       "      <td>NaN</td>\n",
       "      <td>NaN</td>\n",
       "      <td>NaN</td>\n",
       "      <td>NaN</td>\n",
       "      <td>1.0</td>\n",
       "      <td>NaN</td>\n",
       "      <td>1.0</td>\n",
       "    </tr>\n",
       "  </tbody>\n",
       "</table>\n",
       "<p>64 rows × 36 columns</p>\n",
       "</div>"
      ],
      "text/plain": [
       "      Year  Month   Day  TSU   EQ              Name              Location  \\\n",
       "0      NaN    NaN   NaN  NaN  NaN               NaN                   NaN   \n",
       "1   2010.0    1.0   NaN  NaN  NaN        Tungurahua               Ecuador   \n",
       "2   2010.0    3.0  31.0  NaN  NaN  Eyjafjallajokull             Iceland-S   \n",
       "3   2010.0    5.0  27.0  NaN  NaN            Pacaya             Guatemala   \n",
       "4   2010.0    5.0  29.0  TSU   EQ           Sarigan  Mariana Is-C Pacific   \n",
       "..     ...    ...   ...  ...  ...               ...                   ...   \n",
       "59  2018.0    2.0   1.0  NaN  NaN           Kilauea           Hawaiian Is   \n",
       "60  2018.0    2.0   9.0  TSU  NaN           Kadovar      New Guinea-NE of   \n",
       "61  2018.0    3.0  21.0  NaN  NaN              Ijen                  Java   \n",
       "62  2018.0    4.0  28.0  NaN  NaN           Kilauea           Hawaiian Is   \n",
       "63  2018.0    4.0   NaN  NaN  NaN              Aoba    Vanuatu-SW Pacific   \n",
       "\n",
       "             Country  Latitude  Longitude  ...  TOTAL_DEATHS  \\\n",
       "0                NaN       NaN        NaN  ...           NaN   \n",
       "1            Ecuador    -1.467    -78.442  ...           NaN   \n",
       "2            Iceland    63.630    -19.620  ...           2.0   \n",
       "3          Guatemala    14.381    -90.601  ...           1.0   \n",
       "4      United States    16.708    145.780  ...           NaN   \n",
       "..               ...       ...        ...  ...           ...   \n",
       "59     United States    19.425   -155.292  ...           1.0   \n",
       "60  Papua New Guinea    -3.620    144.620  ...           NaN   \n",
       "61         Indonesia    -8.058    114.242  ...           NaN   \n",
       "62     United States    19.425   -155.292  ...           NaN   \n",
       "63           Vanuatu   -15.400    167.830  ...           4.0   \n",
       "\n",
       "   TOTAL_DEATHS_DESCRIPTION TOTAL_MISSING TOTAL_MISSING_DESCRIPTION  \\\n",
       "0                       NaN           NaN                       NaN   \n",
       "1                       NaN           NaN                       NaN   \n",
       "2                       1.0           NaN                       NaN   \n",
       "3                       1.0           3.0                       1.0   \n",
       "4                       NaN           NaN                       NaN   \n",
       "..                      ...           ...                       ...   \n",
       "59                      1.0           NaN                       NaN   \n",
       "60                      NaN           NaN                       NaN   \n",
       "61                      NaN           NaN                       NaN   \n",
       "62                      NaN           NaN                       NaN   \n",
       "63                      1.0           NaN                       NaN   \n",
       "\n",
       "    TOTAL_INJURIES TOTAL_INJURIES_DESCRIPTION  TOTAL_DAMAGE_MILLIONS_DOLLARS  \\\n",
       "0              NaN                        NaN                            NaN   \n",
       "1              NaN                        NaN                            NaN   \n",
       "2              NaN                        NaN                            NaN   \n",
       "3              NaN                        NaN                            NaN   \n",
       "4              NaN                        NaN                            NaN   \n",
       "..             ...                        ...                            ...   \n",
       "59             3.0                        1.0                            NaN   \n",
       "60             NaN                        NaN                            NaN   \n",
       "61            30.0                        1.0                            NaN   \n",
       "62             NaN                        NaN                            NaN   \n",
       "63             NaN                        NaN                            NaN   \n",
       "\n",
       "    TOTAL_DAMAGE_DESCRIPTION  TOTAL_HOUSES_DESTROYED  \\\n",
       "0                        NaN                     NaN   \n",
       "1                        1.0                     NaN   \n",
       "2                        NaN                     NaN   \n",
       "3                        1.0                     3.0   \n",
       "4                        NaN                     NaN   \n",
       "..                       ...                     ...   \n",
       "59                       NaN                     NaN   \n",
       "60                       NaN                     NaN   \n",
       "61                       NaN                     NaN   \n",
       "62                       1.0                     2.0   \n",
       "63                       1.0                     NaN   \n",
       "\n",
       "    TOTAL_HOUSES_DESTROYED_DESCRIPTION  \n",
       "0                                  NaN  \n",
       "1                                  NaN  \n",
       "2                                  NaN  \n",
       "3                                  1.0  \n",
       "4                                  NaN  \n",
       "..                                 ...  \n",
       "59                                 NaN  \n",
       "60                                 NaN  \n",
       "61                                 NaN  \n",
       "62                                 1.0  \n",
       "63                                 1.0  \n",
       "\n",
       "[64 rows x 36 columns]"
      ]
     },
     "execution_count": 9,
     "metadata": {},
     "output_type": "execute_result"
    }
   ],
   "source": [
    "import pandas as pd\n",
    "df1=pd.read_csv('C:/Users/Admin/Desktop/kavya/volcano_data_2010.csv')\n",
    "df1"
   ]
  },
  {
   "cell_type": "code",
   "execution_count": null,
   "id": "ffdcbf0b",
   "metadata": {},
   "outputs": [],
   "source": []
  },
  {
   "cell_type": "code",
   "execution_count": null,
   "id": "ca05d7bd",
   "metadata": {},
   "outputs": [],
   "source": [
    "\n",
    "\n",
    "\n",
    "\n",
    "\n"
   ]
  },
  {
   "cell_type": "code",
   "execution_count": 11,
   "id": "5f2ff0a1",
   "metadata": {},
   "outputs": [
    {
     "data": {
      "text/html": [
       "<div>\n",
       "<style scoped>\n",
       "    .dataframe tbody tr th:only-of-type {\n",
       "        vertical-align: middle;\n",
       "    }\n",
       "\n",
       "    .dataframe tbody tr th {\n",
       "        vertical-align: top;\n",
       "    }\n",
       "\n",
       "    .dataframe thead th {\n",
       "        text-align: right;\n",
       "    }\n",
       "</style>\n",
       "<table border=\"1\" class=\"dataframe\">\n",
       "  <thead>\n",
       "    <tr style=\"text-align: right;\">\n",
       "      <th></th>\n",
       "      <th>Manufacturer</th>\n",
       "      <th>Model</th>\n",
       "      <th>Type</th>\n",
       "      <th>Price</th>\n",
       "      <th>MPG.city</th>\n",
       "      <th>MPG.highway</th>\n",
       "      <th>Horsepower</th>\n",
       "      <th>Rear.seat.room</th>\n",
       "      <th>Passengers</th>\n",
       "    </tr>\n",
       "  </thead>\n",
       "  <tbody>\n",
       "    <tr>\n",
       "      <th>0</th>\n",
       "      <td>Acura</td>\n",
       "      <td>Integra</td>\n",
       "      <td>Small</td>\n",
       "      <td>15.9</td>\n",
       "      <td>25</td>\n",
       "      <td>31</td>\n",
       "      <td>140</td>\n",
       "      <td>26.5</td>\n",
       "      <td>5</td>\n",
       "    </tr>\n",
       "    <tr>\n",
       "      <th>1</th>\n",
       "      <td>Acura</td>\n",
       "      <td>Legend</td>\n",
       "      <td>Midsize</td>\n",
       "      <td>33.9</td>\n",
       "      <td>18</td>\n",
       "      <td>25</td>\n",
       "      <td>200</td>\n",
       "      <td>30.0</td>\n",
       "      <td>5</td>\n",
       "    </tr>\n",
       "    <tr>\n",
       "      <th>2</th>\n",
       "      <td>Audi</td>\n",
       "      <td>90</td>\n",
       "      <td>Compact</td>\n",
       "      <td>29.1</td>\n",
       "      <td>20</td>\n",
       "      <td>26</td>\n",
       "      <td>172</td>\n",
       "      <td>28.0</td>\n",
       "      <td>5</td>\n",
       "    </tr>\n",
       "    <tr>\n",
       "      <th>3</th>\n",
       "      <td>Audi</td>\n",
       "      <td>100</td>\n",
       "      <td>Midsize</td>\n",
       "      <td>37.7</td>\n",
       "      <td>19</td>\n",
       "      <td>26</td>\n",
       "      <td>172</td>\n",
       "      <td>31.0</td>\n",
       "      <td>6</td>\n",
       "    </tr>\n",
       "    <tr>\n",
       "      <th>4</th>\n",
       "      <td>BMW</td>\n",
       "      <td>535i</td>\n",
       "      <td>Midsize</td>\n",
       "      <td>30.0</td>\n",
       "      <td>22</td>\n",
       "      <td>30</td>\n",
       "      <td>208</td>\n",
       "      <td>27.0</td>\n",
       "      <td>4</td>\n",
       "    </tr>\n",
       "  </tbody>\n",
       "</table>\n",
       "</div>"
      ],
      "text/plain": [
       "  Manufacturer    Model     Type  Price  MPG.city  MPG.highway  Horsepower  \\\n",
       "0        Acura  Integra    Small   15.9        25           31         140   \n",
       "1        Acura   Legend  Midsize   33.9        18           25         200   \n",
       "2         Audi       90  Compact   29.1        20           26         172   \n",
       "3         Audi      100  Midsize   37.7        19           26         172   \n",
       "4          BMW     535i  Midsize   30.0        22           30         208   \n",
       "\n",
       "   Rear.seat.room  Passengers  \n",
       "0            26.5           5  \n",
       "1            30.0           5  \n",
       "2            28.0           5  \n",
       "3            31.0           6  \n",
       "4            27.0           4  "
      ]
     },
     "execution_count": 11,
     "metadata": {},
     "output_type": "execute_result"
    }
   ],
   "source": [
    "#Importing the necessary Libraries\n",
    "import numpy as np\n",
    "import pandas as pd\n",
    "import matplotlib.pyplot as plt\n",
    "import matplotlib.cm as cm\n",
    "#Importing the required dataset\n",
    "cars_df = pd.read_csv(\"C:/Users/Admin/Desktop/kavya/Cars93.csv\")\n",
    "columns = [\"Manufacturer\",\"Model\",\"Type\",\"Price\",\n",
    "\"MPG.city\",\"MPG.highway\",\"Horsepower\",\"Rear.seat.room\",\"Passengers\"]\n",
    "cars_df[columns].head()\n"
   ]
  },
  {
   "cell_type": "code",
   "execution_count": 12,
   "id": "b9250961",
   "metadata": {},
   "outputs": [
    {
     "data": {
      "text/plain": [
       "<AxesSubplot:>"
      ]
     },
     "execution_count": 12,
     "metadata": {},
     "output_type": "execute_result"
    },
    {
     "data": {
      "image/png": "[encoded data removed]",
      "text/plain": [
       "<Figure size 720x504 with 1 Axes>"
      ]
     },
     "metadata": {
      "needs_background": "light"
     },
     "output_type": "display_data"
    }
   ],
   "source": [
    "#creating a box plot for the variable 'Price'\n",
    "cars_df[\"Price\"].plot(kind=\"box\",figsize = (10,7))\n"
   ]
  },
  {
   "cell_type": "code",
   "execution_count": 13,
   "id": "68e39281",
   "metadata": {},
   "outputs": [
    {
     "data": {
      "image/png": "[encoded data removed]",
      "text/plain": [
       "<Figure size 720x504 with 2 Axes>"
      ]
     },
     "metadata": {
      "needs_background": "light"
     },
     "output_type": "display_data"
    }
   ],
   "source": [
    "#The following lines enable us to use subplot functionality\n",
    "fig, (ax1, ax2) = plt.subplots(2, 1)\n",
    "fig.set_figwidth(10) #setting the width for the plot\n",
    "fig.set_figheight(7) #setting the height for the plot\n"
   ]
  },
  {
   "cell_type": "code",
   "execution_count": 14,
   "id": "45d364bd",
   "metadata": {},
   "outputs": [
    {
     "data": {
      "text/plain": [
       "{'whiskers': [<matplotlib.lines.Line2D at 0x2ab137826a0>,\n",
       "  <matplotlib.lines.Line2D at 0x2ab13782970>],\n",
       " 'caps': [<matplotlib.lines.Line2D at 0x2ab13782c40>,\n",
       "  <matplotlib.lines.Line2D at 0x2ab13782f10>],\n",
       " 'boxes': [<matplotlib.lines.Line2D at 0x2ab137823d0>],\n",
       " 'medians': [<matplotlib.lines.Line2D at 0x2ab1378f220>],\n",
       " 'fliers': [<matplotlib.lines.Line2D at 0x2ab1378f4f0>],\n",
       " 'means': []}"
      ]
     },
     "execution_count": 14,
     "metadata": {},
     "output_type": "execute_result"
    },
    {
     "data": {
      "image/png": "[encoded data removed]",
      "text/plain": [
       "<Figure size 720x504 with 2 Axes>"
      ]
     },
     "metadata": {
      "needs_background": "light"
     },
     "output_type": "display_data"
    }
   ],
   "source": [
    "#The following lines enable us to use subplot functionality\n",
    "fig, (ax1, ax2) = plt.subplots(2, 1)\n",
    "fig.set_figwidth(10)\n",
    "fig.set_figheight(7)\n",
    "#The following lines of code change the alignment from vertical to horizontal\n",
    "ax1.boxplot(cars_df[\"Horsepower\"],vert=False)\n",
    "ax2.boxplot(cars_df[\"MPG.city\"],vert=False)\n"
   ]
  },
  {
   "cell_type": "code",
   "execution_count": 15,
   "id": "660541b7",
   "metadata": {},
   "outputs": [
    {
     "data": {
      "text/plain": [
       "Text(0.5, 0, 'City Mileage (in miles per US gallon)')"
      ]
     },
     "execution_count": 15,
     "metadata": {},
     "output_type": "execute_result"
    },
    {
     "data": {
      "image/png": "[encoded data removed]",
      "text/plain": [
       "<Figure size 720x504 with 2 Axes>"
      ]
     },
     "metadata": {
      "needs_background": "light"
     },
     "output_type": "display_data"
    }
   ],
   "source": [
    "#The following lines enable us to use subplot funtionality\n",
    "fig, (ax1, ax2) = plt.subplots(2, 1)\n",
    "fig.set_figwidth(10)\n",
    "fig.set_figheight(7)\n",
    "#The following lines of code change the alignment from vertical to horizontal\n",
    "ax1.boxplot(cars_df[\"Horsepower\"],vert=False)\n",
    "ax2.boxplot(cars_df[\"MPG.city\"],vert=False)\n",
    "#The following lines of code are used to add labels to axes and title to the graph\n",
    "ax1.set_title('Horsepower')\n",
    "ax1.set_xlabel('Horsepower')\n",
    "ax2.set_title('City Mileage')\n",
    "ax2.set_xlabel(\"City Mileage (in miles per US gallon)\")\n"
   ]
  },
  {
   "cell_type": "code",
   "execution_count": 16,
   "id": "483da041",
   "metadata": {},
   "outputs": [
    {
     "data": {
      "image/png": "[encoded data removed]",
      "text/plain": [
       "<Figure size 720x504 with 2 Axes>"
      ]
     },
     "metadata": {
      "needs_background": "light"
     },
     "output_type": "display_data"
    }
   ],
   "source": [
    "#The following lines enable us to use subplot functionality\n",
    "fig, (ax1, ax2) = plt.subplots(2, 1)\n",
    "fig.set_figwidth(10)\n",
    "fig.set_figheight(7)\n",
    "#The following lines of code change the alignment from vertical to horizontal\n",
    "ax1.boxplot(cars_df[\"Horsepower\"],vert=False)\n",
    "ax2.boxplot(cars_df[\"MPG.city\"],vert=False)\n",
    "#The following lines of code are used to add axis labels and titles to the graph\n",
    "ax1.set_title('Horsepower')\n",
    "ax1.set_xlabel('Horsepower')\n",
    "ax2.set_title('City Mileage')\n",
    "ax2.set_xlabel(\"City Mileage (in miles per US gallon)\")\n",
    "#In case of any superimposition of the subplots, the following functions caters the aesthetics\n",
    "fig.tight_layout()\n"
   ]
  },
  {
   "cell_type": "code",
   "execution_count": 17,
   "id": "3a516cb6",
   "metadata": {},
   "outputs": [
    {
     "data": {
      "text/plain": [
       "Text(0.5, 1.0, 'Van')"
      ]
     },
     "execution_count": 17,
     "metadata": {},
     "output_type": "execute_result"
    },
    {
     "data": {
      "image/png": "[encoded data removed]",
      "text/plain": [
       "<Figure size 720x504 with 6 Axes>"
      ]
     },
     "metadata": {
      "needs_background": "light"
     },
     "output_type": "display_data"
    }
   ],
   "source": [
    "# Setting up the partitions, length and width of the figure\n",
    "fig, ax = plt.subplots(2, 3)\n",
    "fig.set_figwidth(10)\n",
    "fig.set_figheight(7)\n",
    "#title\n",
    "fig.suptitle(\"Multiple Box Plots\", fontsize=16) \n",
    "#Accessing each partition[m][n] and providing the plot and its title\n",
    "ax[0][0].boxplot(cars_df[\"Price\"][cars_df[\"Type\"]==\"Compact\"])\n",
    "ax[0][0].set_title('Compact')\n",
    "ax[0][1].boxplot(cars_df[\"Price\"][cars_df[\"Type\"]==\"Large\"])\n",
    "ax[0][1].set_title('Large')\n",
    "ax[0][2].boxplot(cars_df[\"Price\"][cars_df[\"Type\"]==\"Midsize\"])\n",
    "ax[0][2].set_title('Midsize')\n",
    "ax[1][0].boxplot(cars_df[\"Price\"][cars_df[\"Type\"]==\"Small\"])\n",
    "ax[1][0].set_title('Small')\n",
    "ax[1][1].boxplot(cars_df[\"Price\"][cars_df[\"Type\"]==\"Sporty\"])\n",
    "ax[1][1].set_title('Sporty')\n",
    "ax[1][2].boxplot(cars_df[\"Price\"][cars_df[\"Type\"]==\"Van\"])\n",
    "ax[1][2].set_title('Van')\n"
   ]
  },
  {
   "cell_type": "code",
   "execution_count": 18,
   "id": "39882253",
   "metadata": {},
   "outputs": [
    {
     "data": {
      "text/plain": [
       "Text(0, 0.5, 'DriveTrain')"
      ]
     },
     "execution_count": 18,
     "metadata": {},
     "output_type": "execute_result"
    },
    {
     "data": {
      "image/png": "[encoded data removed]",
      "text/plain": [
       "<Figure size 432x288 with 1 Axes>"
      ]
     },
     "metadata": {
      "needs_background": "light"
     },
     "output_type": "display_data"
    }
   ],
   "source": [
    "#horizontal bar graph\n",
    "plt.barh(cars_df[\"DriveTrain\"], cars_df[\"MPG.city\"],height=0.2,label=\"Mileage in city\")\n",
    "plt.xlabel(\"MPG.city\")\n",
    "plt.ylabel(\"DriveTrain\")\n"
   ]
  },
  {
   "cell_type": "code",
   "execution_count": 19,
   "id": "4968e412",
   "metadata": {},
   "outputs": [
    {
     "data": {
      "text/plain": [
       "array([5, 6, 4, 7, 8, 2], dtype=int64)"
      ]
     },
     "execution_count": 19,
     "metadata": {},
     "output_type": "execute_result"
    }
   ],
   "source": [
    "#Use the following code snippet to filter the unique values of no. of passengers a car can carry\n",
    "cars_df[\"Passengers\"].unique()\n"
   ]
  },
  {
   "cell_type": "code",
   "execution_count": 24,
   "id": "d1f5456c",
   "metadata": {},
   "outputs": [
    {
     "data": {
      "text/plain": [
       "<matplotlib.image.AxesImage at 0x2ab14980d00>"
      ]
     },
     "execution_count": 24,
     "metadata": {},
     "output_type": "execute_result"
    },
    {
     "data": {
      "image/png": "[encoded data removed]",
      "text/plain": [
       "<Figure size 432x288 with 1 Axes>"
      ]
     },
     "metadata": {
      "needs_background": "light"
     },
     "output_type": "display_data"
    }
   ],
   "source": [
    "#importing necessary libraries\n",
    "from skimage.io import imread\n",
    "from skimage import data_dir\n",
    "#reading an image to set the custom outline of Wordcloud\n",
    "cloud = imread('C:/Users/Admin/Desktop/kavya/cloud.png')\n",
    "plt.imshow(cloud)\n"
   ]
  },
  {
   "cell_type": "code",
   "execution_count": null,
   "id": "275bf897",
   "metadata": {},
   "outputs": [],
   "source": [
    "import pandas as pd\n",
    "df=pd.DataFrame=[(())]"
   ]
  }
 ],
 "metadata": {
  "kernelspec": {
   "display_name": "Python 3 (ipykernel)",
   "language": "python",
   "name": "python3"
  },
  "language_info": {
   "codemirror_mode": {
    "name": "ipython",
    "version": 3
   },
   "file_extension": ".py",
   "mimetype": "text/x-python",
   "name": "python",
   "nbconvert_exporter": "python",
   "pygments_lexer": "ipython3",
   "version": "3.9.12"
  }
 },
 "nbformat": 4,
 "nbformat_minor": 5
}
