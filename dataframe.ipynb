{
 "cells": [
  {
   "cell_type": "code",
   "execution_count": 17,
   "id": "a6ef3840",
   "metadata": {
    "scrolled": true
   },
   "outputs": [
    {
     "data": {
      "text/html": [
       "<div>\n",
       "<style scoped>\n",
       "    .dataframe tbody tr th:only-of-type {\n",
       "        vertical-align: middle;\n",
       "    }\n",
       "\n",
       "    .dataframe tbody tr th {\n",
       "        vertical-align: top;\n",
       "    }\n",
       "\n",
       "    .dataframe thead th {\n",
       "        text-align: right;\n",
       "    }\n",
       "</style>\n",
       "<table border=\"1\" class=\"dataframe\">\n",
       "  <thead>\n",
       "    <tr style=\"text-align: right;\">\n",
       "      <th></th>\n",
       "      <th>Name</th>\n",
       "      <th>date</th>\n",
       "      <th>sales</th>\n",
       "      <th>sale</th>\n",
       "    </tr>\n",
       "  </thead>\n",
       "  <tbody>\n",
       "    <tr>\n",
       "      <th>0</th>\n",
       "      <td>john</td>\n",
       "      <td>-2013</td>\n",
       "      <td>11.0</td>\n",
       "      <td>NaN</td>\n",
       "    </tr>\n",
       "    <tr>\n",
       "      <th>1</th>\n",
       "      <td>dan</td>\n",
       "      <td>-2013</td>\n",
       "      <td>38.0</td>\n",
       "      <td>NaN</td>\n",
       "    </tr>\n",
       "    <tr>\n",
       "      <th>2</th>\n",
       "      <td>joe</td>\n",
       "      <td>-2013</td>\n",
       "      <td>45.0</td>\n",
       "      <td>NaN</td>\n",
       "    </tr>\n",
       "    <tr>\n",
       "      <th>3</th>\n",
       "      <td>joe</td>\n",
       "      <td>-2019</td>\n",
       "      <td>55.0</td>\n",
       "      <td>NaN</td>\n",
       "    </tr>\n",
       "    <tr>\n",
       "      <th>4</th>\n",
       "      <td>dan</td>\n",
       "      <td>-2012</td>\n",
       "      <td>45.0</td>\n",
       "      <td>NaN</td>\n",
       "    </tr>\n",
       "    <tr>\n",
       "      <th>5</th>\n",
       "      <td>ram</td>\n",
       "      <td>-2023</td>\n",
       "      <td>NaN</td>\n",
       "      <td>21.0</td>\n",
       "    </tr>\n",
       "    <tr>\n",
       "      <th>6</th>\n",
       "      <td>joe</td>\n",
       "      <td>-2013</td>\n",
       "      <td>13.0</td>\n",
       "      <td>NaN</td>\n",
       "    </tr>\n",
       "    <tr>\n",
       "      <th>7</th>\n",
       "      <td>raj</td>\n",
       "      <td>-2025</td>\n",
       "      <td>67.0</td>\n",
       "      <td>NaN</td>\n",
       "    </tr>\n",
       "    <tr>\n",
       "      <th>8</th>\n",
       "      <td>tara</td>\n",
       "      <td>-2013</td>\n",
       "      <td>45.0</td>\n",
       "      <td>NaN</td>\n",
       "    </tr>\n",
       "  </tbody>\n",
       "</table>\n",
       "</div>"
      ],
      "text/plain": [
       "   Name  date  sales  sale\n",
       "0  john -2013   11.0   NaN\n",
       "1   dan -2013   38.0   NaN\n",
       "2   joe -2013   45.0   NaN\n",
       "3   joe -2019   55.0   NaN\n",
       "4   dan -2012   45.0   NaN\n",
       "5   ram -2023    NaN  21.0\n",
       "6   joe -2013   13.0   NaN\n",
       "7   raj -2025   67.0   NaN\n",
       "8  tara -2013   45.0   NaN"
      ]
     },
     "execution_count": 17,
     "metadata": {},
     "output_type": "execute_result"
    }
   ],
   "source": [
    "import pandas as pd\n",
    "import datetime as dt\n",
    "pivot_data=[{'Name':'john','date':14-6-2021,'sales':11},\n",
    "                {'Name':'dan','date':15-7-2021,'sales':38},\n",
    "                {'Name':'joe','date':16-8-2021,'sales':45},\n",
    "                {'Name':'joe','date':11-9-2021,'sales':55},\n",
    "                {'Name':'dan','date':16-7-2021,'sales':45},\n",
    "                {'Name':'ram','date':10-12-2021,'sale':21},\n",
    "                {'Name':'joe','date':9-1-2021,'sales':13},\n",
    "                {'Name':'raj','date':1-5-2021,'sales':67},\n",
    "                {'Name':'tara','date':16-8-2021,'sales':45}]\n",
    "df=pd.DataFrame(pivot_data)\n",
    "df\n",
    "                "
   ]
  },
  {
   "cell_type": "code",
   "execution_count": 10,
   "id": "2983c325",
   "metadata": {},
   "outputs": [
    {
     "name": "stdout",
     "output_type": "stream",
     "text": [
      "0    1\n",
      "1    2\n",
      "2    3\n",
      "3    4\n",
      "4    5\n",
      "5    6\n",
      "6    7\n",
      "7    8\n",
      "dtype: int64\n"
     ]
    }
   ],
   "source": [
    "import pandas as pd\n",
    "import numpy as np\n",
    "\n",
    "ser1 = pd.Series([1,2,3,4,5])\n",
    "ser2 = pd.Series([4,5,6,7,8])\n",
    "\n",
    "union =pd.Series(np.union1d(ser1,ser2))\n",
    "\n",
    "print(union)"
   ]
  },
  {
   "cell_type": "code",
   "execution_count": 12,
   "id": "c1459853",
   "metadata": {},
   "outputs": [
    {
     "name": "stdout",
     "output_type": "stream",
     "text": [
      "0    4\n",
      "1    5\n",
      "dtype: int64\n"
     ]
    }
   ],
   "source": [
    "intersect =pd.Series(np.intersect1d(ser1,ser2))\n",
    "\n",
    "print(intersect)"
   ]
  },
  {
   "cell_type": "code",
   "execution_count": 13,
   "id": "307bb298",
   "metadata": {},
   "outputs": [
    {
     "name": "stdout",
     "output_type": "stream",
     "text": [
      "0    1\n",
      "1    2\n",
      "2    3\n",
      "5    6\n",
      "6    7\n",
      "7    8\n",
      "dtype: int64\n"
     ]
    }
   ],
   "source": [
    "notcommonseries =union[~union.isin(intersect)]\n",
    "\n",
    "print(notcommonseries)"
   ]
  },
  {
   "cell_type": "code",
   "execution_count": 21,
   "id": "27deab43",
   "metadata": {},
   "outputs": [
    {
     "data": {
      "text/plain": [
       "0    a\n",
       "1    g\n",
       "2    j\n",
       "3    o\n",
       "4    u\n",
       "dtype: object"
      ]
     },
     "execution_count": 21,
     "metadata": {},
     "output_type": "execute_result"
    }
   ],
   "source": [
    "import pandas as pd\n",
    "import numpy as np\n",
    "ser1=pd.Series(['a','g','u',])\n",
    "ser2=pd.Series(['a','g','o','j'])\n",
    "ser3=pd.Series(['j','g',''])\n",
    "union =pd.Series(np.union1d(ser1,ser2))\n",
    "union"
   ]
  },
  {
   "cell_type": "code",
   "execution_count": 22,
   "id": "47832f01",
   "metadata": {},
   "outputs": [
    {
     "name": "stdout",
     "output_type": "stream",
     "text": [
      "tuple11\n"
     ]
    }
   ],
   "source": [
    "tuple()\n",
    "print(\"tuple11\")"
   ]
  },
  {
   "cell_type": "code",
   "execution_count": null,
   "id": "78974889",
   "metadata": {},
   "outputs": [],
   "source": []
  }
 ],
 "metadata": {
  "kernelspec": {
   "display_name": "Python 3 (ipykernel)",
   "language": "python",
   "name": "python3"
  },
  "language_info": {
   "codemirror_mode": {
    "name": "ipython",
    "version": 3
   },
   "file_extension": ".py",
   "mimetype": "text/x-python",
   "name": "python",
   "nbconvert_exporter": "python",
   "pygments_lexer": "ipython3",
   "version": "3.9.12"
  }
 },
 "nbformat": 4,
 "nbformat_minor": 5
}
