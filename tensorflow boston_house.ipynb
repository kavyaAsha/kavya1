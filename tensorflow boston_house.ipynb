{
 "cells": [
  {
   "cell_type": "code",
   "execution_count": 17,
   "id": "e723407e",
   "metadata": {},
   "outputs": [],
   "source": [
    "import pandas as pd\n",
    "import numpy as np\n",
    "import seaborn as sns\n",
    "import matplotlib.pyplot as plt\n",
    "import warnings\n",
    "%matplotlib inline\n",
    "warnings.filterwarnings('ignore')\n",
    "from keras.models import Sequential\n",
    "from keras.layers import Dense\n",
    "from sklearn import linear_model\n",
    "from sklearn.metrics import mean_squared_error, mean_absolute_error"
   ]
  },
  {
   "cell_type": "code",
   "execution_count": 18,
   "id": "08f29cc5",
   "metadata": {},
   "outputs": [],
   "source": [
    "from tensorflow.keras.datasets import boston_housing\n"
   ]
  },
  {
   "cell_type": "code",
   "execution_count": 19,
   "id": "2181ae5f",
   "metadata": {},
   "outputs": [
    {
     "name": "stdout",
     "output_type": "stream",
     "text": [
      "Downloading data from https://storage.googleapis.com/tensorflow/tf-keras-datasets/boston_housing.npz\n",
      "57026/57026 [==============================] - 0s 1us/step\n"
     ]
    }
   ],
   "source": [
    "(X_train,y_train),(X_test,y_test)=boston_housing.load_data()"
   ]
  },
  {
   "cell_type": "code",
   "execution_count": 20,
   "id": "2e53c5a6",
   "metadata": {},
   "outputs": [],
   "source": [
    "from sklearn.preprocessing import StandardScaler\n",
    "scaler=StandardScaler()\n",
    "scaler.fit(X_train)\n",
    "X_train_scaled = scaler.transform(X_train)\n",
    "X_test_scaled = scaler.transform(X_test)\n",
    "\n"
   ]
  },
  {
   "cell_type": "code",
   "execution_count": 22,
   "id": "fe581f55",
   "metadata": {},
   "outputs": [],
   "source": [
    "# define the model\n",
    "#Experiment with deeper and wider networks\n",
    "model = Sequential()\n",
    "model.add(Dense(128, input_dim=13, activation='relu'))\n",
    "model.add(Dense(64, activation='relu'))\n",
    "#Output layer\n",
    "model.add(Dense(1, activation='linear'))\n"
   ]
  },
  {
   "cell_type": "code",
   "execution_count": 23,
   "id": "cadcb0ab",
   "metadata": {},
   "outputs": [
    {
     "name": "stdout",
     "output_type": "stream",
     "text": [
      "Model: \"sequential_1\"\n",
      "_________________________________________________________________\n",
      " Layer (type)                Output Shape              Param #   \n",
      "=================================================================\n",
      " dense_3 (Dense)             (None, 128)               1792      \n",
      "                                                                 \n",
      " dense_4 (Dense)             (None, 64)                8256      \n",
      "                                                                 \n",
      " dense_5 (Dense)             (None, 1)                 65        \n",
      "                                                                 \n",
      "=================================================================\n",
      "Total params: 10,113\n",
      "Trainable params: 10,113\n",
      "Non-trainable params: 0\n",
      "_________________________________________________________________\n"
     ]
    }
   ],
   "source": [
    "model.compile(loss='mean_squared_error', optimizer='adam', metrics=['mae'])\n",
    "model.summary()"
   ]
  },
  {
   "cell_type": "code",
   "execution_count": 24,
   "id": "6e99bbaa",
   "metadata": {},
   "outputs": [
    {
     "name": "stdout",
     "output_type": "stream",
     "text": [
      "Epoch 1/100\n",
      "11/11 [==============================] - 3s 33ms/step - loss: 553.1313 - mae: 21.6776 - val_loss: 588.5290 - val_mae: 22.4831\n",
      "Epoch 2/100\n",
      "11/11 [==============================] - 0s 7ms/step - loss: 496.9102 - mae: 20.3160 - val_loss: 520.7441 - val_mae: 20.9673\n",
      "Epoch 3/100\n",
      "11/11 [==============================] - 0s 5ms/step - loss: 426.7550 - mae: 18.5680 - val_loss: 429.9745 - val_mae: 18.7823\n",
      "Epoch 4/100\n",
      "11/11 [==============================] - 0s 4ms/step - loss: 332.2783 - mae: 16.0235 - val_loss: 316.7239 - val_mae: 15.6855\n",
      "Epoch 5/100\n",
      "11/11 [==============================] - 0s 4ms/step - loss: 227.0627 - mae: 12.7148 - val_loss: 200.6234 - val_mae: 11.6886\n",
      "Epoch 6/100\n",
      "11/11 [==============================] - 0s 4ms/step - loss: 134.0137 - mae: 9.1301 - val_loss: 114.2409 - val_mae: 8.0611\n",
      "Epoch 7/100\n",
      "11/11 [==============================] - 0s 5ms/step - loss: 81.3617 - mae: 6.9125 - val_loss: 76.2693 - val_mae: 6.7114\n",
      "Epoch 8/100\n",
      "11/11 [==============================] - 0s 4ms/step - loss: 59.1072 - mae: 5.8725 - val_loss: 54.2675 - val_mae: 5.7797\n",
      "Epoch 9/100\n",
      "11/11 [==============================] - 0s 4ms/step - loss: 43.8192 - mae: 4.9326 - val_loss: 40.6992 - val_mae: 4.8437\n",
      "Epoch 10/100\n",
      "11/11 [==============================] - 0s 4ms/step - loss: 34.3019 - mae: 4.2494 - val_loss: 31.3608 - val_mae: 4.0978\n",
      "Epoch 11/100\n",
      "11/11 [==============================] - 0s 3ms/step - loss: 28.9460 - mae: 3.8510 - val_loss: 26.3740 - val_mae: 3.7617\n",
      "Epoch 12/100\n",
      "11/11 [==============================] - 0s 4ms/step - loss: 25.7288 - mae: 3.5776 - val_loss: 23.8380 - val_mae: 3.6667\n",
      "Epoch 13/100\n",
      "11/11 [==============================] - 0s 3ms/step - loss: 23.5029 - mae: 3.3815 - val_loss: 21.9896 - val_mae: 3.4977\n",
      "Epoch 14/100\n",
      "11/11 [==============================] - 0s 4ms/step - loss: 21.8155 - mae: 3.2163 - val_loss: 20.5167 - val_mae: 3.3580\n",
      "Epoch 15/100\n",
      "11/11 [==============================] - 0s 4ms/step - loss: 20.5231 - mae: 3.1004 - val_loss: 19.4373 - val_mae: 3.3130\n",
      "Epoch 16/100\n",
      "11/11 [==============================] - 0s 4ms/step - loss: 20.2200 - mae: 3.1457 - val_loss: 18.8886 - val_mae: 3.3693\n",
      "Epoch 17/100\n",
      "11/11 [==============================] - 0s 4ms/step - loss: 19.5412 - mae: 3.1466 - val_loss: 17.9089 - val_mae: 3.2363\n",
      "Epoch 18/100\n",
      "11/11 [==============================] - 0s 4ms/step - loss: 18.1787 - mae: 2.9358 - val_loss: 17.4501 - val_mae: 3.1395\n",
      "Epoch 19/100\n",
      "11/11 [==============================] - 0s 4ms/step - loss: 17.6413 - mae: 2.8697 - val_loss: 17.0972 - val_mae: 3.1143\n",
      "Epoch 20/100\n",
      "11/11 [==============================] - 0s 5ms/step - loss: 16.9897 - mae: 2.8056 - val_loss: 16.5942 - val_mae: 3.0428\n",
      "Epoch 21/100\n",
      "11/11 [==============================] - 0s 4ms/step - loss: 16.5521 - mae: 2.7673 - val_loss: 16.2513 - val_mae: 3.0441\n",
      "Epoch 22/100\n",
      "11/11 [==============================] - 0s 4ms/step - loss: 16.0278 - mae: 2.7317 - val_loss: 15.7662 - val_mae: 2.9970\n",
      "Epoch 23/100\n",
      "11/11 [==============================] - 0s 4ms/step - loss: 15.6617 - mae: 2.6977 - val_loss: 15.3738 - val_mae: 2.9611\n",
      "Epoch 24/100\n",
      "11/11 [==============================] - 0s 4ms/step - loss: 15.2842 - mae: 2.6599 - val_loss: 15.1114 - val_mae: 2.9312\n",
      "Epoch 25/100\n",
      "11/11 [==============================] - 0s 4ms/step - loss: 14.9733 - mae: 2.6363 - val_loss: 15.1941 - val_mae: 2.9534\n",
      "Epoch 26/100\n",
      "11/11 [==============================] - 0s 4ms/step - loss: 14.6345 - mae: 2.6033 - val_loss: 14.8309 - val_mae: 2.8986\n",
      "Epoch 27/100\n",
      "11/11 [==============================] - 0s 4ms/step - loss: 14.3318 - mae: 2.5829 - val_loss: 14.4282 - val_mae: 2.8631\n",
      "Epoch 28/100\n",
      "11/11 [==============================] - 0s 5ms/step - loss: 14.0705 - mae: 2.5761 - val_loss: 14.0468 - val_mae: 2.7846\n",
      "Epoch 29/100\n",
      "11/11 [==============================] - 0s 4ms/step - loss: 13.6958 - mae: 2.5104 - val_loss: 13.9557 - val_mae: 2.8172\n",
      "Epoch 30/100\n",
      "11/11 [==============================] - 0s 4ms/step - loss: 13.3129 - mae: 2.4791 - val_loss: 13.9282 - val_mae: 2.8275\n",
      "Epoch 31/100\n",
      "11/11 [==============================] - 0s 4ms/step - loss: 12.9970 - mae: 2.4665 - val_loss: 13.8753 - val_mae: 2.8113\n",
      "Epoch 32/100\n",
      "11/11 [==============================] - 0s 4ms/step - loss: 12.8000 - mae: 2.4732 - val_loss: 13.9900 - val_mae: 2.8261\n",
      "Epoch 33/100\n",
      "11/11 [==============================] - 0s 4ms/step - loss: 12.5377 - mae: 2.4643 - val_loss: 13.8857 - val_mae: 2.7963\n",
      "Epoch 34/100\n",
      "11/11 [==============================] - 0s 4ms/step - loss: 12.3108 - mae: 2.4209 - val_loss: 13.6152 - val_mae: 2.7998\n",
      "Epoch 35/100\n",
      "11/11 [==============================] - 0s 4ms/step - loss: 12.0308 - mae: 2.3911 - val_loss: 13.1878 - val_mae: 2.6754\n",
      "Epoch 36/100\n",
      "11/11 [==============================] - 0s 4ms/step - loss: 12.0363 - mae: 2.4014 - val_loss: 12.9574 - val_mae: 2.6442\n",
      "Epoch 37/100\n",
      "11/11 [==============================] - 0s 4ms/step - loss: 11.6196 - mae: 2.3769 - val_loss: 13.1413 - val_mae: 2.6708\n",
      "Epoch 38/100\n",
      "11/11 [==============================] - 0s 4ms/step - loss: 11.3703 - mae: 2.3510 - val_loss: 13.1276 - val_mae: 2.6915\n",
      "Epoch 39/100\n",
      "11/11 [==============================] - 0s 4ms/step - loss: 11.1768 - mae: 2.3190 - val_loss: 13.1883 - val_mae: 2.7412\n",
      "Epoch 40/100\n",
      "11/11 [==============================] - 0s 4ms/step - loss: 11.2014 - mae: 2.2926 - val_loss: 12.9173 - val_mae: 2.7050\n",
      "Epoch 41/100\n",
      "11/11 [==============================] - 0s 4ms/step - loss: 10.9576 - mae: 2.2685 - val_loss: 12.8308 - val_mae: 2.6541\n",
      "Epoch 42/100\n",
      "11/11 [==============================] - 0s 4ms/step - loss: 10.9455 - mae: 2.2803 - val_loss: 12.9094 - val_mae: 2.6182\n",
      "Epoch 43/100\n",
      "11/11 [==============================] - 0s 4ms/step - loss: 10.7676 - mae: 2.2763 - val_loss: 12.9156 - val_mae: 2.6487\n",
      "Epoch 44/100\n",
      "11/11 [==============================] - 0s 4ms/step - loss: 10.7228 - mae: 2.2900 - val_loss: 13.0844 - val_mae: 2.6735\n",
      "Epoch 45/100\n",
      "11/11 [==============================] - 0s 4ms/step - loss: 10.3778 - mae: 2.2147 - val_loss: 12.8665 - val_mae: 2.6185\n",
      "Epoch 46/100\n",
      "11/11 [==============================] - 0s 4ms/step - loss: 10.2938 - mae: 2.2118 - val_loss: 13.0610 - val_mae: 2.6155\n",
      "Epoch 47/100\n",
      "11/11 [==============================] - 0s 4ms/step - loss: 10.1928 - mae: 2.2138 - val_loss: 13.1854 - val_mae: 2.6369\n",
      "Epoch 48/100\n",
      "11/11 [==============================] - 0s 4ms/step - loss: 10.1062 - mae: 2.2137 - val_loss: 13.3556 - val_mae: 2.6339\n",
      "Epoch 49/100\n",
      "11/11 [==============================] - 0s 4ms/step - loss: 10.0340 - mae: 2.2096 - val_loss: 13.1715 - val_mae: 2.6258\n",
      "Epoch 50/100\n",
      "11/11 [==============================] - 0s 4ms/step - loss: 10.0655 - mae: 2.1616 - val_loss: 12.7990 - val_mae: 2.6246\n",
      "Epoch 51/100\n",
      "11/11 [==============================] - 0s 4ms/step - loss: 9.8147 - mae: 2.1551 - val_loss: 12.9273 - val_mae: 2.5967\n",
      "Epoch 52/100\n",
      "11/11 [==============================] - 0s 4ms/step - loss: 9.7684 - mae: 2.1890 - val_loss: 13.0956 - val_mae: 2.5913\n",
      "Epoch 53/100\n",
      "11/11 [==============================] - 0s 4ms/step - loss: 9.6949 - mae: 2.1803 - val_loss: 12.9558 - val_mae: 2.5967\n",
      "Epoch 54/100\n",
      "11/11 [==============================] - 0s 4ms/step - loss: 9.6164 - mae: 2.1507 - val_loss: 13.2076 - val_mae: 2.6454\n",
      "Epoch 55/100\n",
      "11/11 [==============================] - 0s 4ms/step - loss: 9.4957 - mae: 2.1423 - val_loss: 12.9918 - val_mae: 2.6269\n",
      "Epoch 56/100\n",
      "11/11 [==============================] - 0s 4ms/step - loss: 9.4192 - mae: 2.1324 - val_loss: 12.7947 - val_mae: 2.6024\n",
      "Epoch 57/100\n",
      "11/11 [==============================] - 0s 3ms/step - loss: 9.4527 - mae: 2.0942 - val_loss: 12.6422 - val_mae: 2.6019\n",
      "Epoch 58/100\n",
      "11/11 [==============================] - 0s 4ms/step - loss: 9.2729 - mae: 2.0820 - val_loss: 12.8965 - val_mae: 2.6174\n",
      "Epoch 59/100\n",
      "11/11 [==============================] - 0s 4ms/step - loss: 9.1817 - mae: 2.0986 - val_loss: 13.0424 - val_mae: 2.5863\n",
      "Epoch 60/100\n",
      "11/11 [==============================] - 0s 4ms/step - loss: 9.0936 - mae: 2.0941 - val_loss: 13.1907 - val_mae: 2.5980\n",
      "Epoch 61/100\n",
      "11/11 [==============================] - 0s 4ms/step - loss: 9.0379 - mae: 2.0763 - val_loss: 13.1911 - val_mae: 2.6633\n",
      "Epoch 62/100\n"
     ]
    },
    {
     "name": "stdout",
     "output_type": "stream",
     "text": [
      "11/11 [==============================] - 0s 4ms/step - loss: 9.0835 - mae: 2.0853 - val_loss: 13.4227 - val_mae: 2.6431\n",
      "Epoch 63/100\n",
      "11/11 [==============================] - 0s 4ms/step - loss: 8.9689 - mae: 2.0744 - val_loss: 13.8687 - val_mae: 2.6202\n",
      "Epoch 64/100\n",
      "11/11 [==============================] - 0s 4ms/step - loss: 10.6883 - mae: 2.3820 - val_loss: 16.5821 - val_mae: 2.7789\n",
      "Epoch 65/100\n",
      "11/11 [==============================] - 0s 4ms/step - loss: 9.5615 - mae: 2.2294 - val_loss: 14.0131 - val_mae: 2.7403\n",
      "Epoch 66/100\n",
      "11/11 [==============================] - 0s 4ms/step - loss: 9.0418 - mae: 2.0899 - val_loss: 13.4398 - val_mae: 2.7017\n",
      "Epoch 67/100\n",
      "11/11 [==============================] - 0s 4ms/step - loss: 8.6883 - mae: 2.0443 - val_loss: 13.5050 - val_mae: 2.6182\n",
      "Epoch 68/100\n",
      "11/11 [==============================] - 0s 3ms/step - loss: 8.7900 - mae: 2.1128 - val_loss: 13.5579 - val_mae: 2.6218\n",
      "Epoch 69/100\n",
      "11/11 [==============================] - 0s 4ms/step - loss: 8.7300 - mae: 2.0245 - val_loss: 12.8234 - val_mae: 2.6451\n",
      "Epoch 70/100\n",
      "11/11 [==============================] - 0s 3ms/step - loss: 8.9339 - mae: 2.0171 - val_loss: 12.8987 - val_mae: 2.6205\n",
      "Epoch 71/100\n",
      "11/11 [==============================] - 0s 4ms/step - loss: 8.7525 - mae: 2.0528 - val_loss: 13.2502 - val_mae: 2.5321\n",
      "Epoch 72/100\n",
      "11/11 [==============================] - 0s 4ms/step - loss: 8.5354 - mae: 2.0079 - val_loss: 12.9955 - val_mae: 2.6342\n",
      "Epoch 73/100\n",
      "11/11 [==============================] - 0s 4ms/step - loss: 8.5807 - mae: 2.0391 - val_loss: 13.3939 - val_mae: 2.6509\n",
      "Epoch 74/100\n",
      "11/11 [==============================] - 0s 4ms/step - loss: 8.2832 - mae: 2.0086 - val_loss: 13.2694 - val_mae: 2.5905\n",
      "Epoch 75/100\n",
      "11/11 [==============================] - 0s 4ms/step - loss: 8.2461 - mae: 2.0040 - val_loss: 13.3363 - val_mae: 2.5848\n",
      "Epoch 76/100\n",
      "11/11 [==============================] - 0s 4ms/step - loss: 8.2415 - mae: 1.9936 - val_loss: 13.3558 - val_mae: 2.5776\n",
      "Epoch 77/100\n",
      "11/11 [==============================] - 0s 4ms/step - loss: 8.1204 - mae: 1.9897 - val_loss: 13.4886 - val_mae: 2.6036\n",
      "Epoch 78/100\n",
      "11/11 [==============================] - 0s 4ms/step - loss: 8.1193 - mae: 1.9840 - val_loss: 13.4153 - val_mae: 2.6604\n",
      "Epoch 79/100\n",
      "11/11 [==============================] - 0s 3ms/step - loss: 8.1964 - mae: 1.9680 - val_loss: 13.2729 - val_mae: 2.6325\n",
      "Epoch 80/100\n",
      "11/11 [==============================] - 0s 4ms/step - loss: 8.0239 - mae: 1.9454 - val_loss: 13.4724 - val_mae: 2.6175\n",
      "Epoch 81/100\n",
      "11/11 [==============================] - 0s 4ms/step - loss: 7.9808 - mae: 1.9644 - val_loss: 13.9619 - val_mae: 2.6183\n",
      "Epoch 82/100\n",
      "11/11 [==============================] - 0s 4ms/step - loss: 7.8633 - mae: 1.9546 - val_loss: 13.6480 - val_mae: 2.6102\n",
      "Epoch 83/100\n",
      "11/11 [==============================] - 0s 4ms/step - loss: 7.9986 - mae: 1.9291 - val_loss: 13.1661 - val_mae: 2.6298\n",
      "Epoch 84/100\n",
      "11/11 [==============================] - 0s 4ms/step - loss: 7.9514 - mae: 1.9172 - val_loss: 13.4580 - val_mae: 2.6285\n",
      "Epoch 85/100\n",
      "11/11 [==============================] - 0s 4ms/step - loss: 8.4862 - mae: 2.0988 - val_loss: 14.2633 - val_mae: 2.6757\n",
      "Epoch 86/100\n",
      "11/11 [==============================] - 0s 4ms/step - loss: 7.9750 - mae: 1.9774 - val_loss: 13.5291 - val_mae: 2.5639\n",
      "Epoch 87/100\n",
      "11/11 [==============================] - 0s 4ms/step - loss: 7.8762 - mae: 1.9494 - val_loss: 13.7918 - val_mae: 2.6151\n",
      "Epoch 88/100\n",
      "11/11 [==============================] - 0s 4ms/step - loss: 7.7030 - mae: 1.9217 - val_loss: 14.3418 - val_mae: 2.6710\n",
      "Epoch 89/100\n",
      "11/11 [==============================] - 0s 4ms/step - loss: 7.7133 - mae: 1.9291 - val_loss: 14.3698 - val_mae: 2.6929\n",
      "Epoch 90/100\n",
      "11/11 [==============================] - 0s 5ms/step - loss: 7.5852 - mae: 1.9215 - val_loss: 13.9509 - val_mae: 2.6451\n",
      "Epoch 91/100\n",
      "11/11 [==============================] - 0s 4ms/step - loss: 7.5224 - mae: 1.8985 - val_loss: 13.7577 - val_mae: 2.6051\n",
      "Epoch 92/100\n",
      "11/11 [==============================] - 0s 4ms/step - loss: 7.4822 - mae: 1.8929 - val_loss: 13.6319 - val_mae: 2.5700\n",
      "Epoch 93/100\n",
      "11/11 [==============================] - 0s 4ms/step - loss: 7.5916 - mae: 1.9169 - val_loss: 14.0967 - val_mae: 2.5910\n",
      "Epoch 94/100\n",
      "11/11 [==============================] - 0s 4ms/step - loss: 7.4865 - mae: 1.9020 - val_loss: 14.2309 - val_mae: 2.6552\n",
      "Epoch 95/100\n",
      "11/11 [==============================] - 0s 4ms/step - loss: 7.3970 - mae: 1.8955 - val_loss: 13.7281 - val_mae: 2.5527\n",
      "Epoch 96/100\n",
      "11/11 [==============================] - 0s 4ms/step - loss: 7.3565 - mae: 1.8739 - val_loss: 13.5487 - val_mae: 2.5194\n",
      "Epoch 97/100\n",
      "11/11 [==============================] - 0s 4ms/step - loss: 7.3738 - mae: 1.8843 - val_loss: 13.5769 - val_mae: 2.5569\n",
      "Epoch 98/100\n",
      "11/11 [==============================] - 0s 4ms/step - loss: 7.3444 - mae: 1.8669 - val_loss: 13.4798 - val_mae: 2.5694\n",
      "Epoch 99/100\n",
      "11/11 [==============================] - 0s 4ms/step - loss: 7.3304 - mae: 1.8723 - val_loss: 14.1368 - val_mae: 2.5766\n",
      "Epoch 100/100\n",
      "11/11 [==============================] - 0s 4ms/step - loss: 7.3393 - mae: 1.8774 - val_loss: 14.1479 - val_mae: 2.6159\n"
     ]
    }
   ],
   "source": [
    "history = model.fit(X_train_scaled, y_train, validation_split=0.2, epochs =100)\n",
    "\n"
   ]
  },
  {
   "cell_type": "code",
   "execution_count": 25,
   "id": "5535289a",
   "metadata": {},
   "outputs": [
    {
     "data": {
      "image/png": "[encoded data removed]",
      "text/plain": [
       "<Figure size 432x288 with 1 Axes>"
      ]
     },
     "metadata": {
      "needs_background": "light"
     },
     "output_type": "display_data"
    }
   ],
   "source": [
    "from matplotlib import pyplot as plt\n",
    "#plot the training and validation accuracy and loss at each epoch\n",
    "loss = history.history['loss']\n",
    "val_loss = history.history['val_loss']\n",
    "epochs = range(1, len(loss) + 1)\n",
    "plt.plot(epochs, loss, 'y', label='Training loss')\n",
    "plt.plot(epochs, val_loss, 'r', label='Validation loss')\n",
    "plt.title('Training and validation loss')\n",
    "plt.xlabel('Epochs')\n",
    "plt.ylabel('Loss')\n",
    "plt.legend()\n",
    "plt.show()\n"
   ]
  },
  {
   "cell_type": "code",
   "execution_count": 26,
   "id": "bce28814",
   "metadata": {},
   "outputs": [
    {
     "name": "stdout",
     "output_type": "stream",
     "text": [
      "4/4 [==============================] - 0s 2ms/step - loss: 27.1264 - mae: 3.1045\n",
      "Mean squared error from neural net:  27.126359939575195\n",
      "Mean absolute error from neural net:  3.10446834564209\n"
     ]
    }
   ],
   "source": [
    "#Comparison with other models..\n",
    "#Neural network - from the current code\n",
    "mse_neural, mae_neural = model.evaluate(X_test_scaled, y_test)\n",
    "print('Mean squared error from neural net: ', mse_neural)\n",
    "print('Mean absolute error from neural net: ', mae_neural)"
   ]
  },
  {
   "cell_type": "code",
   "execution_count": 27,
   "id": "00617d61",
   "metadata": {},
   "outputs": [
    {
     "name": "stdout",
     "output_type": "stream",
     "text": [
      "1/1 [==============================] - 0s 173ms/step\n",
      "Predicted values are:  [[ 8.359353]\n",
      " [17.782333]\n",
      " [20.80447 ]\n",
      " [31.138664]\n",
      " [24.814913]]\n",
      "Real values are:  [ 7.2 18.8 19.  27.  22.2]\n"
     ]
    }
   ],
   "source": [
    "############################################\n",
    "#Predict on test data\n",
    "predictions = model.predict(X_test_scaled[:5])\n",
    "print(\"Predicted values are: \", predictions)\n",
    "print(\"Real values are: \", y_test[:5])\n"
   ]
  },
  {
   "cell_type": "code",
   "execution_count": 28,
   "id": "c36f780f",
   "metadata": {},
   "outputs": [
    {
     "name": "stdout",
     "output_type": "stream",
     "text": [
      "Mean squared error from linear regression:  23.195599256422977\n",
      "Mean absolute error from linear regression:  3.4641858124067166\n"
     ]
    }
   ],
   "source": [
    "### Linear regression\n",
    "lr_model = linear_model.LinearRegression()\n",
    "lr_model.fit(X_train_scaled, y_train)\n",
    "y_pred_lr = lr_model.predict(X_test_scaled)\n",
    "mse_lr = mean_squared_error(y_test, y_pred_lr)\n",
    "mae_lr = mean_absolute_error(y_test, y_pred_lr)\n",
    "print('Mean squared error from linear regression: ', mse_lr)\n",
    "print('Mean absolute error from linear regression: ', mae_lr)"
   ]
  },
  {
   "cell_type": "code",
   "execution_count": null,
   "id": "5a56942e",
   "metadata": {},
   "outputs": [],
   "source": []
  }
 ],
 "metadata": {
  "kernelspec": {
   "display_name": "Python 3 (ipykernel)",
   "language": "python",
   "name": "python3"
  },
  "language_info": {
   "codemirror_mode": {
    "name": "ipython",
    "version": 3
   },
   "file_extension": ".py",
   "mimetype": "text/x-python",
   "name": "python",
   "nbconvert_exporter": "python",
   "pygments_lexer": "ipython3",
   "version": "3.9.12"
  }
 },
 "nbformat": 4,
 "nbformat_minor": 5
}
