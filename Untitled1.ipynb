{
 "cells": [
  {
   "cell_type": "code",
   "execution_count": 1,
   "id": "5e4701e0",
   "metadata": {},
   "outputs": [],
   "source": [
    "import numpy as np\n",
    "import pandas as pd\n",
    "import matplotlib.pyplot as plt\n",
    "from sklearn.cluster import KMeans"
   ]
  },
  {
   "cell_type": "code",
   "execution_count": 2,
   "id": "a1d77bc3",
   "metadata": {},
   "outputs": [
    {
     "data": {
      "text/plain": [
       "<bound method NDFrame.head of      CustomerID   Genre  Age  Annual Income (k$)  Spending Score (1-100)\n",
       "0             1    Male   19                  15                      39\n",
       "1             2    Male   21                  15                      81\n",
       "2             3  Female   20                  16                       6\n",
       "3             4  Female   23                  16                      77\n",
       "4             5  Female   31                  17                      40\n",
       "..          ...     ...  ...                 ...                     ...\n",
       "195         196  Female   35                 120                      79\n",
       "196         197  Female   45                 126                      28\n",
       "197         198    Male   32                 126                      74\n",
       "198         199    Male   32                 137                      18\n",
       "199         200    Male   30                 137                      83\n",
       "\n",
       "[200 rows x 5 columns]>"
      ]
     },
     "execution_count": 2,
     "metadata": {},
     "output_type": "execute_result"
    }
   ],
   "source": [
    "data = pd.read_csv('C:/Users/Admin/Desktop/Mall_Customers.csv')\n",
    "data.head"
   ]
  },
  {
   "cell_type": "code",
   "execution_count": 4,
   "id": "38cf5faf",
   "metadata": {},
   "outputs": [
    {
     "name": "stdout",
     "output_type": "stream",
     "text": [
      "(200, 2)\n"
     ]
    }
   ],
   "source": [
    "x = data.iloc[:, 3:5].values\n",
    "print(x.shape)"
   ]
  },
  {
   "cell_type": "code",
   "execution_count": 5,
   "id": "7d0ef50d",
   "metadata": {},
   "outputs": [],
   "source": [
    "km = KMeans(n_clusters = 5, init = 'k-means++', max_iter = 300, n_init = 10, random_state = 0)\n",
    "# Change value of n_clusters to 4,5 or 6 to check how Dunn index changes\n",
    "y_means = km.fit_predict(x)"
   ]
  },
  {
   "cell_type": "code",
   "execution_count": 6,
   "id": "6e2318ad",
   "metadata": {},
   "outputs": [
    {
     "data": {
      "text/plain": [
       "44448.45544793371"
      ]
     },
     "execution_count": 6,
     "metadata": {},
     "output_type": "execute_result"
    }
   ],
   "source": [
    "km.inertia_\n"
   ]
  },
  {
   "cell_type": "code",
   "execution_count": 8,
   "id": "0559dc2d",
   "metadata": {},
   "outputs": [
    {
     "data": {
      "text/plain": [
       "array([[88.2       , 17.11428571],\n",
       "       [55.2962963 , 49.51851852],\n",
       "       [86.53846154, 82.12820513],\n",
       "       [25.72727273, 79.36363636],\n",
       "       [26.30434783, 20.91304348]])"
      ]
     },
     "execution_count": 8,
     "metadata": {},
     "output_type": "execute_result"
    }
   ],
   "source": [
    "km.cluster_centers_"
   ]
  },
  {
   "cell_type": "code",
   "execution_count": 11,
   "id": "1a678533",
   "metadata": {},
   "outputs": [],
   "source": [
    "import math\n",
    "def max_intra_cluster_distance(cluster_points,centroid):\n",
    " max_dist = float('-inf')\n",
    " for point in cluster_points:  \n",
    "    dist = math.dist(centroid, point)\n",
    "    if dist > max_dist:\n",
    "        max_dist = dist\n",
    " return max_dist"
   ]
  },
  {
   "cell_type": "code",
   "execution_count": 13,
   "id": "b21b8ce0",
   "metadata": {},
   "outputs": [
    {
     "name": "stdout",
     "output_type": "stream",
     "text": [
      "Maximum intra cluster distance 50.46906864807208\n"
     ]
    }
   ],
   "source": [
    "max_distance = float('-inf')\n",
    "for i in range(0,5):\n",
    " cluster_points = x[y_means == i]\n",
    " centroid = list(km.cluster_centers_[i])\n",
    " dist = max_intra_cluster_distance(cluster_points,centroid)\n",
    " if dist > max_distance:\n",
    "  max_distance = dist\n",
    "print(\"Maximum intra cluster distance\",max_distance)\n",
    "max_intra_cluster_dist = max_distance\n"
   ]
  },
  {
   "cell_type": "code",
   "execution_count": 18,
   "id": "9bf06019",
   "metadata": {},
   "outputs": [],
   "source": [
    "def min_inter_cluster_distance(centroids):\n",
    " min_dist = float('inf')\n",
    " for i in range(len(centroids)):\n",
    "   for j in range(len(centroids)):\n",
    "       dist = math.dist(centroids[i], centroids[j])\n",
    "       if(i==j):\n",
    "        continue\n",
    "       else:\n",
    "        if dist < min_dist:\n",
    "            min_dist = dist\n",
    " return min_dist\n"
   ]
  },
  {
   "cell_type": "code",
   "execution_count": 19,
   "id": "d828067d",
   "metadata": {},
   "outputs": [
    {
     "data": {
      "text/plain": [
       "[26.304347826086982, 20.913043478260867]"
      ]
     },
     "execution_count": 19,
     "metadata": {},
     "output_type": "execute_result"
    }
   ],
   "source": [
    "centroids = km.cluster_centers_\n",
    "centroid"
   ]
  },
  {
   "cell_type": "code",
   "execution_count": 20,
   "id": "250d6a5c",
   "metadata": {},
   "outputs": [
    {
     "name": "stdout",
     "output_type": "stream",
     "text": [
      "Minimum inter cluster distance 40.728445567908395\n"
     ]
    }
   ],
   "source": [
    "min_inter_cluster_dist = min_inter_cluster_distance(centroids)\n",
    "print(\"Minimum inter cluster distance\",min_inter_cluster_dist)\n"
   ]
  },
  {
   "cell_type": "code",
   "execution_count": 21,
   "id": "749deba7",
   "metadata": {},
   "outputs": [],
   "source": [
    "dunn_index = min_inter_cluster_dist/max_intra_cluster_dist"
   ]
  },
  {
   "cell_type": "code",
   "execution_count": 22,
   "id": "0653507b",
   "metadata": {},
   "outputs": [
    {
     "data": {
      "text/plain": [
       "0.8069981606340624"
      ]
     },
     "execution_count": 22,
     "metadata": {},
     "output_type": "execute_result"
    }
   ],
   "source": [
    "dunn_index"
   ]
  },
  {
   "cell_type": "code",
   "execution_count": null,
   "id": "d80620c2",
   "metadata": {},
   "outputs": [],
   "source": []
  }
 ],
 "metadata": {
  "kernelspec": {
   "display_name": "Python 3 (ipykernel)",
   "language": "python",
   "name": "python3"
  },
  "language_info": {
   "codemirror_mode": {
    "name": "ipython",
    "version": 3
   },
   "file_extension": ".py",
   "mimetype": "text/x-python",
   "name": "python",
   "nbconvert_exporter": "python",
   "pygments_lexer": "ipython3",
   "version": "3.9.12"
  }
 },
 "nbformat": 4,
 "nbformat_minor": 5
}
