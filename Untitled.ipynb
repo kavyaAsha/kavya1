{
 "cells": [
  {
   "cell_type": "code",
   "execution_count": null,
   "id": "b5e73b92",
   "metadata": {},
   "outputs": [],
   "source": [
    "activation = lambda x: 1.0/(1.0 + np.exp(-x)) # sigmoid function\n",
    "input = np.random.randn(3, 1)\n",
    "hidden_1 = activation(np.dot(W1, input) + b1)\n",
    "hidden_2 = activation(np.dot(W2, hidden_1) + b2)\n",
    "output = np.dot(W3, hidden_2) + b3\n"
   ]
  }
 ],
 "metadata": {
  "kernelspec": {
   "display_name": "Python 3 (ipykernel)",
   "language": "python",
   "name": "python3"
  },
  "language_info": {
   "codemirror_mode": {
    "name": "ipython",
    "version": 3
   },
   "file_extension": ".py",
   "mimetype": "text/x-python",
   "name": "python",
   "nbconvert_exporter": "python",
   "pygments_lexer": "ipython3",
   "version": "3.9.12"
  }
 },
 "nbformat": 4,
 "nbformat_minor": 5
}
